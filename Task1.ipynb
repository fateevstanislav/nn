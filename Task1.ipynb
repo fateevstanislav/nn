{
 "cells": [
  {
   "cell_type": "code",
   "execution_count": 1,
   "metadata": {
    "collapsed": true
   },
   "outputs": [],
   "source": [
    "import numpy as np\n",
    "import tensorflow as tf\n",
    "import matplotlib\n",
    "\n",
    "# Parameters\n",
    "CLASS_COUNT = 26\n",
    "INPUT_COUNT = 16\n",
    "TRAIN_VOLUME = 7000\n",
    "TEST_VOLUME = 1000\n",
    "\n",
    "learning_rate = 0.01\n",
    "training_epochs = 250\n",
    "batch_size = 100\n",
    "display_step = 50"
   ]
  },
  {
   "cell_type": "code",
   "execution_count": 2,
   "metadata": {
    "collapsed": true
   },
   "outputs": [],
   "source": [
    "def read_data(filename):\n",
    "    \"\"\" Read data from file.\n",
    "        Return List of Turples (in this case pairs), last contains lists: input data and corresponding label\"\"\"\n",
    "    data = []\n",
    "    with open(filename) as f:\n",
    "        content = f.readlines()\n",
    "    for line in content:\n",
    "        [class_str, vector_str] = line.split(',', 1)\n",
    "        class_number = ord(class_str[0]) - ord('A')\n",
    "        class_label = [0] * CLASS_COUNT\n",
    "        class_label[class_number] = 1\n",
    "        class_vector = [int(x) for x in vector_str.split(',')]\n",
    "        data.append((class_vector, class_label))\n",
    "    return data"
   ]
  },
  {
   "cell_type": "code",
   "execution_count": 3,
   "metadata": {
    "collapsed": true
   },
   "outputs": [],
   "source": [
    "n_input = INPUT_COUNT\n",
    "n_hidden_1 = 100\n",
    "n_hidden_2 = 100\n",
    "n_classes = CLASS_COUNT\n",
    "\n",
    "x = tf.placeholder(\"float\", [None, n_input])\n",
    "y = tf.placeholder(\"float\", [None, n_classes])"
   ]
  },
  {
   "cell_type": "code",
   "execution_count": 4,
   "metadata": {
    "collapsed": true
   },
   "outputs": [],
   "source": [
    "def mlp(_X, _weights, _biases):\n",
    "    #Hidden layer with RELU activation\n",
    "    #layer_1 = tf.nn.relu(tf.add(tf.matmul(_X, _weights['h1']), _biases['b1']))\n",
    "    layer_1 = tf.nn.tanh(tf.add(tf.matmul(_X, _weights['h1']), _biases['b1']))\n",
    "    #Hidden layer with RELU activation\n",
    "    #layer_2 = tf.nn.relu(tf.add(tf.matmul(layer_1, _weights['h2']), _biases['b2']))\n",
    "    layer_2 = tf.nn.tanh(tf.add(tf.matmul(layer_1, _weights['h2']), _biases['b2']))\n",
    "    return tf.matmul(layer_2, weights['out']) + biases['out']\n",
    "\n",
    "# Store layers weight & bias\n",
    "weights = {\n",
    "    'h1': tf.Variable(tf.random_normal([n_input, n_hidden_1])),\n",
    "    'h2': tf.Variable(tf.random_normal([n_hidden_1, n_hidden_2])),\n",
    "    'out': tf.Variable(tf.random_normal([n_hidden_2, n_classes]))\n",
    "}\n",
    "biases = {\n",
    "    'b1': tf.Variable(tf.random_normal([n_hidden_1])),\n",
    "    'b2': tf.Variable(tf.random_normal([n_hidden_2])),\n",
    "    'out': tf.Variable(tf.random_normal([n_classes]))\n",
    "}"
   ]
  },
  {
   "cell_type": "code",
   "execution_count": 5,
   "metadata": {
    "collapsed": true
   },
   "outputs": [],
   "source": [
    "# Construct model\n",
    "pred = mlp(x, weights, biases)\n",
    "\n",
    "# Define loss and optimizer\n",
    "# Softmax loss\n",
    "cost = tf.reduce_mean(tf.nn.softmax_cross_entropy_with_logits(pred, y))\n",
    "# Adam Optimizer\n",
    "optimizer = tf.train.AdamOptimizer(learning_rate=learning_rate).minimize(cost)\n",
    "\n",
    "# Mean square loss\n",
    "#cost = tf.reduce_mean(tf.square(pred - y))\n",
    "#optimizer = tf.train.GradientDescentOptimizer(learning_rate=learning_rate).minimize(cost)\n",
    "\n",
    "# Initializing the variables\n",
    "init = tf.initialize_all_variables()\n",
    "\n",
    "# Read data from file\n",
    "data = read_data(\"letter-recognition.data\")\n",
    "\n",
    "train_data = data[0:TRAIN_VOLUME]\n",
    "test_data = data[TRAIN_VOLUME:TRAIN_VOLUME+TEST_VOLUME]\n",
    "\n",
    "train_vectors = []\n",
    "train_labels = []\n",
    "for (tv, tl) in train_data:\n",
    "    train_vectors.append(tv)\n",
    "    train_labels.append(tl)\n",
    "\n",
    "test_vectors = []\n",
    "test_labels = []\n",
    "for (tv, tl) in train_data:\n",
    "    test_vectors.append(tv)\n",
    "    test_labels.append(tl)"
   ]
  },
  {
   "cell_type": "code",
   "execution_count": 6,
   "metadata": {
    "collapsed": false
   },
   "outputs": [
    {
     "name": "stdout",
     "output_type": "stream",
     "text": [
      "Epoch: 0001 cost= 5.823349820\n",
      "Epoch: 0051 cost= 0.676804742\n",
      "Epoch: 0101 cost= 0.492135981\n",
      "Epoch: 0151 cost= 0.417551619\n",
      "Epoch: 0201 cost= 0.385015772\n",
      "Optimization Finished\n",
      "Accuracy: 0.882571\n"
     ]
    }
   ],
   "source": [
    "# Launch the graph\n",
    "with tf.Session() as sess:\n",
    "    sess.run(init)\n",
    "\n",
    "    # Training cycle\n",
    "    for epoch in range(training_epochs):\n",
    "        avg_cost = 0.\n",
    "        total_batch = int(len(train_data)/batch_size)\n",
    "        k = 0\n",
    "        # Loop over all batches\n",
    "        for i in range(total_batch):\n",
    "            #batch_xs, batch_ys = train_data[k:k+batch_size]\n",
    "            batch_xs = train_vectors[k:k+batch_size]\n",
    "            batch_ys = train_labels[k:k+batch_size]\n",
    "            k += batch_size\n",
    "            # Fit training using batch data\n",
    "            sess.run(optimizer, feed_dict={x: batch_xs, y: batch_ys})\n",
    "            # Compute average loss\n",
    "            avg_cost += sess.run(cost, feed_dict={x: batch_xs, y: batch_ys})/total_batch\n",
    "        # Display logs per epoch step\n",
    "        if epoch % display_step == 0:\n",
    "            print \"Epoch:\", '%04d' % (epoch+1), \"cost=\", \"{:.9f}\".format(avg_cost)\n",
    "\n",
    "    print \"Optimization Finished\"\n",
    "\n",
    "    # Test model\n",
    "    correct_prediction = tf.equal(tf.argmax(pred, 1), tf.argmax(y, 1))\n",
    "    # Calculate accuracy\n",
    "    accuracy = tf.reduce_mean(tf.cast(correct_prediction, \"float\"))\n",
    "    print \"Accuracy:\", accuracy.eval({x: test_vectors, y: test_labels})"
   ]
  },
  {
   "cell_type": "code",
   "execution_count": null,
   "metadata": {
    "collapsed": true
   },
   "outputs": [],
   "source": []
  }
 ],
 "metadata": {
  "kernelspec": {
   "display_name": "Python 2",
   "language": "python",
   "name": "python2"
  },
  "language_info": {
   "codemirror_mode": {
    "name": "ipython",
    "version": 2
   },
   "file_extension": ".py",
   "mimetype": "text/x-python",
   "name": "python",
   "nbconvert_exporter": "python",
   "pygments_lexer": "ipython2",
   "version": "2.7.9"
  }
 },
 "nbformat": 4,
 "nbformat_minor": 0
}
